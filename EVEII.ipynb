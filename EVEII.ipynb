{
 "cells": [
  {
   "cell_type": "code",
   "execution_count": 90,
   "metadata": {},
   "outputs": [
    {
     "name": "stdout",
     "output_type": "stream",
     "text": [
      "Initializing....\n"
     ]
    }
   ],
   "source": [
    "from FetchPrice import *\n",
    "from EVEBlueprints import *\n",
    "from EVEIndustrier import do_get_input_info_rtn\n",
    "from EVEIndustry_v2 import get_inputs_rtn\n",
    "from NamesTranslator import get_type_name"
   ]
  },
  {
   "cell_type": "code",
   "execution_count": 91,
   "metadata": {},
   "outputs": [],
   "source": [
    "def get_production_chain(bp_id):\n",
    "    inputs = get_inputs_rtn(bp_id)\n",
    "    result = []\n",
    "    for k,v in inputs.items():\n",
    "        try:\n",
    "            i_bp = get_blueprint_from_product(k)\n",
    "            result.append(get_type_name(i_bp))\n",
    "            result.append(get_production_chain(i_bp))\n",
    "        except IndexError:\n",
    "            result.append({k: v})\n",
    "    return result"
   ]
  },
  {
   "cell_type": "code",
   "execution_count": 92,
   "metadata": {},
   "outputs": [],
   "source": [
    "def print_format_chain(chain, iter=0):\n",
    "    for i in chain:\n",
    "        if type(i) == type([]):\n",
    "            print_format_chain(i, iter + 1)\n",
    "        elif type(i) == type({}):\n",
    "            print(\" \" * 2 * iter + \"`---\" + get_type_name(list(i.keys())[0]) + \" x\" + str(list(i.values())[0]))\n",
    "        elif type(i) == type(\"\"):\n",
    "            print(\" \" * 2 * iter + \"`-\" + i)"
   ]
  },
  {
   "cell_type": "code",
   "execution_count": 140,
   "metadata": {},
   "outputs": [],
   "source": []
  },
  {
   "cell_type": "code",
   "execution_count": 142,
   "metadata": {
    "scrolled": false
   },
   "outputs": [
    {
     "name": "stdout",
     "output_type": "stream",
     "text": [
      "==========Void S Blueprint==========\n",
      "\n",
      "Inputs\n",
      "`---Reports x1\n",
      "`---Consumer Electronics x1\n",
      "`-R.Db - Duvolle Labs Blueprint\n",
      "  `---Mexallon x89\n",
      "  `---Isogen x167\n",
      "  `---Nocxium x80\n",
      "`---Morphite x1\n",
      "`-R.A.M.- Ammunition Tech Blueprint\n",
      "  `---Tritanium x556\n",
      "  `---Pyerite x444\n",
      "  `---Mexallon x222\n",
      "  `---Isogen x82\n",
      "  `---Nocxium x36\n",
      "`-Crystalline Carbonide Reaction Formula\n",
      "  `-Helium Fuel Block Blueprint\n",
      "    `---Robotics x1\n",
      "    `---Enriched Uranium x4\n",
      "    `---Mechanical Parts x4\n",
      "    `---Coolant x9\n",
      "    `---Strontium Clathrates x20\n",
      "    `---Oxygen x22\n",
      "    `---Heavy Water x170\n",
      "    `---Liquid Ozone x350\n",
      "    `---Helium Isotopes x450\n",
      "  `-Crystallite Alloy Reaction Formula\n",
      "    `-Helium Fuel Block Blueprint\n",
      "      `---Robotics x1\n",
      "      `---Enriched Uranium x4\n",
      "      `---Mechanical Parts x4\n",
      "      `---Coolant x9\n",
      "      `---Strontium Clathrates x20\n",
      "      `---Oxygen x22\n",
      "      `---Heavy Water x170\n",
      "      `---Liquid Ozone x350\n",
      "      `---Helium Isotopes x450\n",
      "    `---Cobalt x100\n",
      "    `---Cadmium x100\n",
      "  `-Carbon Polymers Reaction Formula\n",
      "    `-Helium Fuel Block Blueprint\n",
      "      `---Robotics x1\n",
      "      `---Enriched Uranium x4\n",
      "      `---Mechanical Parts x4\n",
      "      `---Coolant x9\n",
      "      `---Strontium Clathrates x20\n",
      "      `---Oxygen x22\n",
      "      `---Heavy Water x170\n",
      "      `---Liquid Ozone x350\n",
      "      `---Helium Isotopes x450\n",
      "    `---Hydrocarbons x100\n",
      "    `---Silicates x100\n",
      "`-Fulleride Reaction Formula\n",
      "  `-Nitrogen Fuel Block Blueprint\n",
      "    `---Robotics x1\n",
      "    `---Enriched Uranium x4\n",
      "    `---Mechanical Parts x4\n",
      "    `---Coolant x9\n",
      "    `---Strontium Clathrates x20\n",
      "    `---Oxygen x22\n",
      "    `---Heavy Water x170\n",
      "    `---Liquid Ozone x350\n",
      "    `---Nitrogen Isotopes x450\n",
      "  `-Carbon Polymers Reaction Formula\n",
      "    `-Helium Fuel Block Blueprint\n",
      "      `---Robotics x1\n",
      "      `---Enriched Uranium x4\n",
      "      `---Mechanical Parts x4\n",
      "      `---Coolant x9\n",
      "      `---Strontium Clathrates x20\n",
      "      `---Oxygen x22\n",
      "      `---Heavy Water x170\n",
      "      `---Liquid Ozone x350\n",
      "      `---Helium Isotopes x450\n",
      "    `---Hydrocarbons x100\n",
      "    `---Silicates x100\n",
      "  `-Platinum Technite Reaction Formula\n",
      "    `-Nitrogen Fuel Block Blueprint\n",
      "      `---Robotics x1\n",
      "      `---Enriched Uranium x4\n",
      "      `---Mechanical Parts x4\n",
      "      `---Coolant x9\n",
      "      `---Strontium Clathrates x20\n",
      "      `---Oxygen x22\n",
      "      `---Heavy Water x170\n",
      "      `---Liquid Ozone x350\n",
      "      `---Nitrogen Isotopes x450\n",
      "    `---Platinum x100\n",
      "    `---Technetium x100\n"
     ]
    }
   ],
   "source": [
    "id = 12613\n",
    "\n",
    "chain = get_production_chain(id)\n",
    "\n",
    "print(\"==========%s==========\" %get_type_name(id))\n",
    "#print(\"Production Cost:\" + str(calc_price(chain)))\n",
    "print(\"\")\n",
    "print(\"Inputs\")\n",
    "print_format_chain(chain)"
   ]
  },
  {
   "cell_type": "code",
   "execution_count": null,
   "metadata": {},
   "outputs": [],
   "source": []
  }
 ],
 "metadata": {
  "kernelspec": {
   "display_name": "Python 3",
   "language": "python",
   "name": "python3"
  },
  "language_info": {
   "codemirror_mode": {
    "name": "ipython",
    "version": 3
   },
   "file_extension": ".py",
   "mimetype": "text/x-python",
   "name": "python",
   "nbconvert_exporter": "python",
   "pygments_lexer": "ipython3",
   "version": "3.8.3"
  }
 },
 "nbformat": 4,
 "nbformat_minor": 2
}
